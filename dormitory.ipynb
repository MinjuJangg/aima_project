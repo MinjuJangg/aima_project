{
 "cells": [
  {
   "cell_type": "code",
   "execution_count": 35,
   "metadata": {},
   "outputs": [],
   "source": [
    "from logic import * #logic 파일을 사용하기 위해 import 함\n",
    "from inference import *\n",
    "import itertools\n"
   ]
  },
  {
   "cell_type": "code",
   "execution_count": 36,
   "metadata": {},
   "outputs": [],
   "source": [
    "\n",
    "def create_dormitory_kb(student_info):\n",
    "    student, status, test_result, vaccinated, submitted_docs, tuition_paid, grade, distance = student_info\n",
    "    clauses = []\n",
    "    \n",
    "    # 학생의 상태에 따라 등록 여부를 결정\n",
    "    if status == '재학생':\n",
    "        clauses.append(expr(f\"Enroll({student})\"))\n",
    "    elif status == '대학원생':\n",
    "        clauses.append(expr(f\"Graduate({student})\"))\n",
    "        clauses.append(expr(\"Graduate(x) ==> Enroll(x)\"))\n",
    "    elif status == '신입생' :\n",
    "        clauses.append(expr(f\"Fresh({student})\"))\n",
    "        clauses.append(expr(\"Fresh(x) ==> Enroll(x)\"))\n",
    "    \n",
    "    # 전염병 검사 결과에 따른 조건 추가\n",
    "    if test_result:\n",
    "        clauses.append(expr(f\"E_Test({student})\"))\n",
    "        clauses.append(expr(\"E_Test(x) ==> E_testOwns(x)\"))\n",
    "    \n",
    "    # 백신 접종 여부\n",
    "    if vaccinated:\n",
    "        clauses.append(expr(f\"Inoculate({student})\"))\n",
    "    \n",
    "    # 입학 서류 제출 여부\n",
    "    if submitted_docs:\n",
    "        clauses.append(expr(f\"Addmission_docu({student}_doc)\"))\n",
    "        clauses.append(expr(\"Addmission_docu(y) ==> A_Owns(x,y)\"))\n",
    "        clauses.append(expr(f\"A_Owns({student}, {student}_doc) ==> Submit({student}, {student}_doc)\"))\n",
    "    \n",
    "    # 등록금 지급 여부\n",
    "    if tuition_paid:\n",
    "        clauses.append(expr(f\"Register({student})\"))\n",
    "    \n",
    "    # 성적 정보 (학부생의 경우)\n",
    "    if grade is not None:\n",
    "        clauses.append(expr(f\"Grade({student})\"))\n",
    "    elif grade is None : \n",
    "        if 'status' == '신입생' :\n",
    "           clauses.append(expr(f\"Grade({student})\")) \n",
    "    \n",
    "    # 위치 정보\n",
    "    clauses.append(expr(f\"Home({distance})\"))\n",
    "    clauses.append(expr(\"Home(z) ==> Location(x,z)\"))\n",
    "\n",
    "    # 최종 조건\n",
    "    clauses.append(expr(\"(Enroll(x) & E_testOwns(x) & Inoculate(x) & Submit(x,y) & Register(x) & Grade(x) & Location(x,z)) ==> Join(x)\"))\n",
    "    \n",
    "    return FolKB(clauses)\n"
   ]
  },
  {
   "cell_type": "code",
   "execution_count": 37,
   "metadata": {},
   "outputs": [],
   "source": [
    "student_A_info = ('A', '재학생', False, True, True, True, 3.2, 114)\n",
    "dormitoryA_kb = create_dormitory_kb(student_A_info)\n",
    "\n",
    "student_B_info = ('B','재학생', True, True, True, True, 3.8, 273)\n",
    "dormitoryB_kb = create_dormitory_kb(student_B_info)\n",
    "\n",
    "student_C_info = ('C', '재학생', True, True, True, True, 3.8, 27)\n",
    "dormitoryC_kb = create_dormitory_kb(student_C_info)\n",
    "\n",
    "student_D_info = ('D', '신입생', True, True, True, True, 3.8, 27)\n",
    "dormitoryD_kb = create_dormitory_kb(student_D_info)\n",
    "\n",
    "student_E_info = ('E', '대학원생', True, True, True, True, 4.3, 433)\n",
    "dormitoryE_kb = create_dormitory_kb(student_E_info)\n",
    "\n",
    "student_F_info = ('F', '대학원생', True, False, False, True, 4.2, 36)\n",
    "dormitoryF_kb = create_dormitory_kb(student_F_info)\n"
   ]
  },
  {
   "cell_type": "code",
   "execution_count": 38,
   "metadata": {},
   "outputs": [
    {
     "name": "stdout",
     "output_type": "stream",
     "text": [
      "['B', 'C', 'D', 'E']\n"
     ]
    }
   ],
   "source": [
    "# dormitoryA_kb.ask는 fol_bc_ask를 호출함\n",
    "pass_student = []\n",
    "\n",
    "for letter in ['A', 'B', 'C', 'D', 'E', 'F']:\n",
    "    if letter == 'A':\n",
    "        if dormitoryA_kb.ask(expr('Join(x)')) != False:\n",
    "            pass_student.append('A')\n",
    "    elif letter == 'B':\n",
    "        if dormitoryB_kb.ask(expr('Join(x)')) != False:\n",
    "            pass_student.append('B')\n",
    "    elif letter == 'C':\n",
    "        if dormitoryC_kb.ask(expr('Join(x)')) != False:\n",
    "            pass_student.append('C')\n",
    "    elif letter == 'D':\n",
    "        if dormitoryD_kb.ask(expr('Join(x)')) != False:\n",
    "            pass_student.append('D')\n",
    "    elif letter == 'E':\n",
    "        if dormitoryE_kb.ask(expr('Join(x)')) != False:\n",
    "            pass_student.append('E')\n",
    "    elif letter == 'F':\n",
    "        if dormitoryF_kb.ask(expr('Join(x)')) != False:\n",
    "            pass_student.append('F')\n",
    "print(pass_student)"
   ]
  },
  {
   "cell_type": "code",
   "execution_count": 39,
   "metadata": {},
   "outputs": [],
   "source": [
    "score_hash_table = {} # 학생별 성적 정의 해쉬 테이블\n",
    "\n",
    "score_hash_table['A'] = 3.2\n",
    "score_hash_table['B'] = 3.8\n",
    "score_hash_table['C'] = 3.8\n",
    "score_hash_table['D'] = 0\n",
    "score_hash_table['E'] = 4.3\n",
    "score_hash_table['F'] = 4.2\n",
    "\n",
    "\n"
   ]
  },
  {
   "cell_type": "code",
   "execution_count": 40,
   "metadata": {},
   "outputs": [],
   "source": [
    "distance_hash_table = {} # 학생별 학교를 기준으로 사는 위치 거리 정보 해쉬 테이블 (단위: km)\n",
    "\n",
    "distance_hash_table['A'] = 114\n",
    "distance_hash_table['B'] = 273\n",
    "distance_hash_table['C'] = 27\n",
    "distance_hash_table['D'] = 21\n",
    "distance_hash_table['E'] = 433\n",
    "distance_hash_table['F'] = 36\n",
    "\n"
   ]
  },
  {
   "cell_type": "code",
   "execution_count": 41,
   "metadata": {},
   "outputs": [],
   "source": [
    "\n",
    "def score_cal(x): #score_cal() 함수는 주어진 값을 기반으로 성적 점수를 환산하는 함수이다.\n",
    "    score1 = 0\n",
    "    if x>=4.0:\n",
    "        score1 += 30\n",
    "    elif x>=3.0:\n",
    "        score1 += 20\n",
    "    #신입생의 경우 성적을 보지 않으니까 30점을 부여해 일반 재학생 보다 우선권을 줄 수 있게 한다.\n",
    "    elif x == 0:\n",
    "        score1 += 30\n",
    "    else:\n",
    "        score1 += 10\n",
    "    return score1\n",
    "        \n",
    "def distance_cal(y): #distance_cal() 함수는 주어진 값을 기반으로 거리 점수를 환산하는 함수이다.\n",
    "    score2 = 0\n",
    "    if y>=120:\n",
    "        score2 += 40\n",
    "    elif y>= 60:\n",
    "        score2 += 30\n",
    "    else:\n",
    "        score2 += 10\n",
    "    return score2\n",
    "\n"
   ]
  },
  {
   "cell_type": "code",
   "execution_count": 42,
   "metadata": {},
   "outputs": [
    {
     "name": "stdout",
     "output_type": "stream",
     "text": [
      "Pass Students: ['B', 'C', 'D', 'E']\n",
      "Final Scores: {'B': 60, 'C': 30, 'D': 40, 'E': 70}\n",
      "Sorted Scores: {'E': 70, 'B': 60, 'D': 40, 'C': 30}\n"
     ]
    }
   ],
   "source": [
    "# 학생별 성적 및 거리 데이터 매핑\n",
    "passstudent_score_ht = {item: score_hash_table.get(item, 0) for item in pass_student}\n",
    "passstudent_distance_ht = {item: distance_hash_table.get(item, 0) for item in pass_student}\n",
    "\n",
    "# 성적과 거리에 따른 점수 계산\n",
    "score_list1 = [distance_cal(y) for y in passstudent_distance_ht.values()]\n",
    "score_list2 = [score_cal(x) for x in passstudent_score_ht.values()]\n",
    "\n",
    "# 점수 합산\n",
    "def add_lists(list1, list2):\n",
    "    return [list1[i] + list2[i] for i in range(min(len(list1), len(list2)))]\n",
    "\n",
    "result_list = add_lists(score_list1, score_list2)\n",
    "\n",
    "# 최종 점수 매핑\n",
    "final_ht = dict(zip(pass_student, result_list))\n",
    "\n",
    "# 점수가 높은 순으로 학생들 정렬\n",
    "sorted_hash_table = dict(sorted(final_ht.items(), key=lambda x: x[1], reverse=True))\n",
    "\n",
    "# 결과 출력\n",
    "print(\"Pass Students:\", pass_student)\n",
    "print(\"Final Scores:\", final_ht)\n",
    "print(\"Sorted Scores:\", sorted_hash_table)"
   ]
  }
 ],
 "metadata": {
  "kernelspec": {
   "display_name": "Python 3",
   "language": "python",
   "name": "python3"
  },
  "language_info": {
   "codemirror_mode": {
    "name": "ipython",
    "version": 3
   },
   "file_extension": ".py",
   "mimetype": "text/x-python",
   "name": "python",
   "nbconvert_exporter": "python",
   "pygments_lexer": "ipython3",
   "version": "3.10.9"
  }
 },
 "nbformat": 4,
 "nbformat_minor": 2
}
